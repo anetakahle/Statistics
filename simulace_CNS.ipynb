{
 "cells": [
  {
   "cell_type": "markdown",
   "id": "f0dd6e2b-83f8-44a6-a310-5fc177253a6f",
   "metadata": {},
   "source": [
    "### MONTE CARLO SIMULATION NA CLOVECE, NEZLOB SE"
   ]
  },
  {
   "cell_type": "code",
   "execution_count": 138,
   "id": "f6a9291e-cc15-4140-98ad-78ab65e5c437",
   "metadata": {},
   "outputs": [],
   "source": [
    "import random\n",
    "from statistics import mean"
   ]
  },
  {
   "cell_type": "code",
   "execution_count": 154,
   "id": "eeaa1796-18a3-4abe-b784-d343965b785b",
   "metadata": {},
   "outputs": [
    {
     "name": "stdout",
     "output_type": "stream",
     "text": [
      "4.109\n"
     ]
    }
   ],
   "source": [
    "experiment_outcomes = []\n",
    "\n",
    "for _ in range(1000):\n",
    "    bool = 1\n",
    "    sum_ = 0\n",
    "    while bool:\n",
    "        x = random.choice(range(1, 7))\n",
    "        sum_ += x\n",
    "        if x != 6:\n",
    "            bool = 0\n",
    "    experiment_outcomes.append(sum_)\n",
    "    \n",
    "# print(experiment_outcomes)\n",
    "print(mean(experiment_outcomes))\n"
   ]
  },
  {
   "cell_type": "markdown",
   "id": "f4d614e9-4c3b-45b7-8f0b-cb67e33d58e0",
   "metadata": {},
   "source": [
    "### PLOTTING THE DATA DISTRIBUTION (HISTOGRAM)"
   ]
  },
  {
   "cell_type": "code",
   "execution_count": 155,
   "id": "95b9785d-1349-44c8-a019-42107ecfaa00",
   "metadata": {},
   "outputs": [],
   "source": [
    "import matplotlib.pyplot as plt\n",
    "import seaborn as sns\n",
    "import pandas as pd"
   ]
  },
  {
   "cell_type": "code",
   "execution_count": 156,
   "id": "7e8e0a70-5b13-4818-960f-4e1afa41a6fd",
   "metadata": {},
   "outputs": [
    {
     "data": {
      "text/html": [
       "<div>\n",
       "<style scoped>\n",
       "    .dataframe tbody tr th:only-of-type {\n",
       "        vertical-align: middle;\n",
       "    }\n",
       "\n",
       "    .dataframe tbody tr th {\n",
       "        vertical-align: top;\n",
       "    }\n",
       "\n",
       "    .dataframe thead th {\n",
       "        text-align: right;\n",
       "    }\n",
       "</style>\n",
       "<table border=\"1\" class=\"dataframe\">\n",
       "  <thead>\n",
       "    <tr style=\"text-align: right;\">\n",
       "      <th></th>\n",
       "      <th>sum_</th>\n",
       "    </tr>\n",
       "  </thead>\n",
       "  <tbody>\n",
       "    <tr>\n",
       "      <th>0</th>\n",
       "      <td>5</td>\n",
       "    </tr>\n",
       "    <tr>\n",
       "      <th>1</th>\n",
       "      <td>7</td>\n",
       "    </tr>\n",
       "    <tr>\n",
       "      <th>2</th>\n",
       "      <td>2</td>\n",
       "    </tr>\n",
       "    <tr>\n",
       "      <th>3</th>\n",
       "      <td>8</td>\n",
       "    </tr>\n",
       "    <tr>\n",
       "      <th>4</th>\n",
       "      <td>4</td>\n",
       "    </tr>\n",
       "    <tr>\n",
       "      <th>...</th>\n",
       "      <td>...</td>\n",
       "    </tr>\n",
       "    <tr>\n",
       "      <th>995</th>\n",
       "      <td>2</td>\n",
       "    </tr>\n",
       "    <tr>\n",
       "      <th>996</th>\n",
       "      <td>2</td>\n",
       "    </tr>\n",
       "    <tr>\n",
       "      <th>997</th>\n",
       "      <td>3</td>\n",
       "    </tr>\n",
       "    <tr>\n",
       "      <th>998</th>\n",
       "      <td>3</td>\n",
       "    </tr>\n",
       "    <tr>\n",
       "      <th>999</th>\n",
       "      <td>3</td>\n",
       "    </tr>\n",
       "  </tbody>\n",
       "</table>\n",
       "<p>1000 rows × 1 columns</p>\n",
       "</div>"
      ],
      "text/plain": [
       "     sum_\n",
       "0       5\n",
       "1       7\n",
       "2       2\n",
       "3       8\n",
       "4       4\n",
       "..    ...\n",
       "995     2\n",
       "996     2\n",
       "997     3\n",
       "998     3\n",
       "999     3\n",
       "\n",
       "[1000 rows x 1 columns]"
      ]
     },
     "execution_count": 156,
     "metadata": {},
     "output_type": "execute_result"
    }
   ],
   "source": [
    "df = pd.DataFrame({\"sum_\": experiment_outcomes})\n",
    "# df.set_axis(['sum_'], axis='columns', copy=False)\n",
    "df"
   ]
  },
  {
   "cell_type": "code",
   "execution_count": 160,
   "id": "97cd0e4f-00a2-46ec-9c5b-746dfa825d86",
   "metadata": {},
   "outputs": [
    {
     "data": {
      "text/plain": [
       "<matplotlib.lines.Line2D at 0x7fd0088a8970>"
      ]
     },
     "execution_count": 160,
     "metadata": {},
     "output_type": "execute_result"
    },
    {
     "data": {
      "image/png": "[encoded data removed]",
      "text/plain": [
       "<Figure size 640x480 with 1 Axes>"
      ]
     },
     "metadata": {},
     "output_type": "display_data"
    }
   ],
   "source": [
    "sns.set(style=\"darkgrid\")\n",
    "sns.histplot(data=df, x=\"sum_\", kde=True, bins=20)\n",
    "plt.axvline(x=df.sum_.mean(), color='red')"
   ]
  },
  {
   "cell_type": "code",
   "execution_count": null,
   "id": "459e3d3e-c1f4-47c9-bb48-b1fc22dd878e",
   "metadata": {},
   "outputs": [],
   "source": []
  },
  {
   "cell_type": "code",
   "execution_count": null,
   "id": "d7e55a8e-17e6-4608-ace4-db0f9f55c968",
   "metadata": {},
   "outputs": [],
   "source": []
  },
  {
   "cell_type": "code",
   "execution_count": null,
   "id": "1aa222f9-61a6-4a86-8f0b-e5c8eb2d044c",
   "metadata": {},
   "outputs": [],
   "source": []
  },
  {
   "cell_type": "code",
   "execution_count": null,
   "id": "9c8a0a47-33b7-4c8c-9d7f-1619d9d0cbe3",
   "metadata": {},
   "outputs": [],
   "source": []
  }
 ],
 "metadata": {
  "kernelspec": {
   "display_name": "Python 3 (ipykernel)",
   "language": "python",
   "name": "python3"
  },
  "language_info": {
   "codemirror_mode": {
    "name": "ipython",
    "version": 3
   },
   "file_extension": ".py",
   "mimetype": "text/x-python",
   "name": "python",
   "nbconvert_exporter": "python",
   "pygments_lexer": "ipython3",
   "version": "3.9.13"
  }
 },
 "nbformat": 4,
 "nbformat_minor": 5
}
